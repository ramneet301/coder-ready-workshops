{
 "cells": [
  {
   "cell_type": "code",
   "execution_count": 71,
   "id": "d1440b5f",
   "metadata": {},
   "outputs": [
    {
     "name": "stdout",
     "output_type": "stream",
     "text": [
      "<class 'int'>\n",
      "<class 'list'>\n",
      "<class 'tuple'>\n",
      "<class 'dict'>\n"
     ]
    }
   ],
   "source": [
    "#type check krne k liya (data type)\n",
    "print(type(1))#integer\n",
    "print(type([]))#list method\n",
    "print(type(()))#tuple\n",
    "print(type({}))#dictionary"
   ]
  },
  {
   "cell_type": "code",
   "execution_count": 72,
   "id": "32eb3c0b",
   "metadata": {},
   "outputs": [
    {
     "name": "stdout",
     "output_type": "stream",
     "text": [
      "<class '__main__.Sample'>\n"
     ]
    }
   ],
   "source": [
    "#object type create a new object type called sample\n",
    "class Sample:\n",
    "    pass  #not define the body, don't need the body\n",
    "#instance of sample\n",
    "x = Sample() #x is a obj of Sample class\n",
    "print(type(x))"
   ]
  },
  {
   "cell_type": "code",
   "execution_count": 73,
   "id": "40016c39",
   "metadata": {},
   "outputs": [],
   "source": [
    "#attributes\n",
    "#syntax\n",
    "#self.attribute=something"
   ]
  },
  {
   "cell_type": "code",
   "execution_count": 74,
   "id": "6591878d",
   "metadata": {},
   "outputs": [],
   "source": [
    "class Dog:\n",
    "    def __init__(self,breed):\n",
    "        self.breed = breed#breed is a agrument\n",
    "sam = Dog(breed='Lab')\n",
    "frank = Dog(breed='Huskie')\n",
    "#sam and frank are the object\n",
    "#(breed ='lab') breed are the behavior "
   ]
  },
  {
   "cell_type": "code",
   "execution_count": 75,
   "id": "9fae253e",
   "metadata": {},
   "outputs": [
    {
     "data": {
      "text/plain": [
       "'Lab'"
      ]
     },
     "execution_count": 75,
     "metadata": {},
     "output_type": "execute_result"
    }
   ],
   "source": [
    "sam.breed"
   ]
  },
  {
   "cell_type": "code",
   "execution_count": 76,
   "id": "77cfdd09",
   "metadata": {},
   "outputs": [
    {
     "data": {
      "text/plain": [
       "'Huskie'"
      ]
     },
     "execution_count": 76,
     "metadata": {},
     "output_type": "execute_result"
    }
   ],
   "source": [
    "frank.breed"
   ]
  },
  {
   "cell_type": "code",
   "execution_count": 77,
   "id": "bf480173",
   "metadata": {},
   "outputs": [],
   "source": [
    "class Dog:\n",
    "    #creat object attributes\n",
    "    species = 'mammal'\n",
    "    def __init__(self,breed,name):\n",
    "     self.breed = breed\n",
    "     self.name = name"
   ]
  },
  {
   "cell_type": "code",
   "execution_count": 78,
   "id": "e6d9e078",
   "metadata": {},
   "outputs": [],
   "source": [
    "sam = Dog('Lab','sam')"
   ]
  },
  {
   "cell_type": "code",
   "execution_count": 79,
   "id": "aaed65c5",
   "metadata": {},
   "outputs": [
    {
     "data": {
      "text/plain": [
       "'sam'"
      ]
     },
     "execution_count": 79,
     "metadata": {},
     "output_type": "execute_result"
    }
   ],
   "source": [
    "sam.name"
   ]
  },
  {
   "cell_type": "code",
   "execution_count": 80,
   "id": "576284bf",
   "metadata": {},
   "outputs": [
    {
     "data": {
      "text/plain": [
       "'mammal'"
      ]
     },
     "execution_count": 80,
     "metadata": {},
     "output_type": "execute_result"
    }
   ],
   "source": [
    "sam.species"
   ]
  },
  {
   "cell_type": "code",
   "execution_count": 81,
   "id": "d92e65db",
   "metadata": {},
   "outputs": [],
   "source": [
    "#created method of two attribute\n"
   ]
  },
  {
   "cell_type": "code",
   "execution_count": 82,
   "id": "f325ec06",
   "metadata": {},
   "outputs": [],
   "source": [
    "\n",
    "class circle:\n",
    "    pi=3.14\n",
    "    def __init__(self,radius=1):\n",
    "        self.radius = radius\n",
    "        self.area = radius * radius * circle.pi\n",
    "        \n",
    "    def SetRadius(self,new_radius):\n",
    "            self.radius=new_radius\n",
    "            self.area = new_radius * new_radius * self.pi\n",
    "            \n",
    "            def circumference(self):\n",
    "                return self.radius * self.pi * 2\n",
    "            \n",
    "            "
   ]
  },
  {
   "cell_type": "code",
   "execution_count": 83,
   "id": "a637d28a",
   "metadata": {},
   "outputs": [],
   "source": [
    "class circle:\n",
    "    pi=3.14\n",
    "    def __init__(self,radius=1):\n",
    "        self.radius=radius\n",
    "        self.area=radius*radius*circle.pi\n",
    "    def SetRadius(self,new_radius):\n",
    "     self.radius=new_radius\n",
    "     self.area=new_radius*new_radius*self.pi\n",
    "    def getcircumference(self):\n",
    "        return self.radius*self.pi*2"
   ]
  },
  {
   "cell_type": "code",
   "execution_count": 84,
   "id": "679e81bc",
   "metadata": {},
   "outputs": [
    {
     "name": "stdout",
     "output_type": "stream",
     "text": [
      "The radius is: 1\n",
      "The area is: 3.14\n",
      "The Circumference is:, c1.getcircumference\n"
     ]
    }
   ],
   "source": [
    "c1 = circle()\n",
    "print(\"The radius is:\", c1.radius)\n",
    "print(\"The area is:\", c1.area)\n",
    "print(\"The Circumference is:, c1.getcircumference\")"
   ]
  },
  {
   "cell_type": "code",
   "execution_count": 85,
   "id": "3ad9234b",
   "metadata": {},
   "outputs": [
    {
     "name": "stdout",
     "output_type": "stream",
     "text": [
      "The radius is: 4\n",
      "The area is: 50.24\n",
      "The Circumference is:, c1.getcircumference\n"
     ]
    }
   ],
   "source": [
    "c1.SetRadius(4)\n",
    "print(\"The radius is:\", c1.radius)\n",
    "print(\"The area is:\", c1.area)\n",
    "print(\"The Circumference is:, c1.getcircumference\")"
   ]
  },
  {
   "cell_type": "code",
   "execution_count": 86,
   "id": "a56b264e",
   "metadata": {},
   "outputs": [],
   "source": [
    "class track:\n",
    "    def __init__(self,coor1,coor2):\n",
    "        self.coor1 = coor1\n",
    "        self.coor2 = coor2\n",
    "        \n",
    "    def distance(self):\n",
    "      x1,y1 = self.coor1\n",
    "      x2,y2 = self.coor2\n",
    "      return ((x2-x1)**2 + (y2-y1)**2)**0.5\n",
    "    \n",
    "    \n",
    "    def slope(self):\n",
    "      x1,y1 = self.coor1\n",
    "      x2,y2 = self.coor2\n",
    "      return (y2-y1)/(x2-x1)\n",
    "    \n",
    "    "
   ]
  },
  {
   "cell_type": "code",
   "execution_count": 87,
   "id": "ad1e14d3",
   "metadata": {},
   "outputs": [],
   "source": [
    "c1 = (12,9)\n",
    "c2 = (3,8)"
   ]
  },
  {
   "cell_type": "code",
   "execution_count": 88,
   "id": "a9972c6b",
   "metadata": {},
   "outputs": [],
   "source": [
    "find = track(c1,c2)"
   ]
  },
  {
   "cell_type": "code",
   "execution_count": 89,
   "id": "c84b92d1",
   "metadata": {},
   "outputs": [
    {
     "data": {
      "text/plain": [
       "9.055385138137417"
      ]
     },
     "execution_count": 89,
     "metadata": {},
     "output_type": "execute_result"
    }
   ],
   "source": [
    "find.distance()"
   ]
  },
  {
   "cell_type": "code",
   "execution_count": 90,
   "id": "e97f73a6",
   "metadata": {},
   "outputs": [
    {
     "data": {
      "text/plain": [
       "0.1111111111111111"
      ]
     },
     "execution_count": 90,
     "metadata": {},
     "output_type": "execute_result"
    }
   ],
   "source": [
    "find.slope()"
   ]
  },
  {
   "cell_type": "code",
   "execution_count": null,
   "id": "a2b659bf",
   "metadata": {},
   "outputs": [],
   "source": []
  },
  {
   "cell_type": "code",
   "execution_count": 91,
   "id": "37c52a74",
   "metadata": {},
   "outputs": [],
   "source": [
    "#bank account detail\n",
    "class Account:\n",
    "    def __init__(self,owner,balance=0):\n",
    "        self.owner = owner\n",
    "        self.balance = balance\n",
    "        \n",
    "    def __str__(self):#str=string(print the msg)\n",
    "      return f'Account owner:---------{self.owner}\\nAccount balance:--------${self.balance}'\n",
    "#f is formatting\n",
    "    def deposit(self,dep_amt):\n",
    "        self.balance += dep_amt  \n",
    "        print(\"Deposite Accepted\")\n",
    "        \n",
    "    def withdraw(self,wd_amt):\n",
    "        if self.balance>= wd_amt:\n",
    "            self.balance -= wd_amt\n",
    "            print(\"withdraw Accepted\")\n",
    "        \n",
    "        else:\n",
    "            print(\"Funds unavailable\")"
   ]
  },
  {
   "cell_type": "code",
   "execution_count": 92,
   "id": "bc5bc280",
   "metadata": {},
   "outputs": [],
   "source": [
    "acc1 = Account('Anjali',20000)"
   ]
  },
  {
   "cell_type": "code",
   "execution_count": 93,
   "id": "90eea2b5",
   "metadata": {},
   "outputs": [
    {
     "name": "stdout",
     "output_type": "stream",
     "text": [
      "Account owner:---------Anjali\n",
      "Account balance:--------$20000\n"
     ]
    }
   ],
   "source": [
    "print(acc1)"
   ]
  },
  {
   "cell_type": "code",
   "execution_count": 94,
   "id": "7451ef35",
   "metadata": {},
   "outputs": [
    {
     "data": {
      "text/plain": [
       "'Anjali'"
      ]
     },
     "execution_count": 94,
     "metadata": {},
     "output_type": "execute_result"
    }
   ],
   "source": [
    "acc1.owner"
   ]
  },
  {
   "cell_type": "code",
   "execution_count": 95,
   "id": "6966bfad",
   "metadata": {},
   "outputs": [
    {
     "data": {
      "text/plain": [
       "20000"
      ]
     },
     "execution_count": 95,
     "metadata": {},
     "output_type": "execute_result"
    }
   ],
   "source": [
    "acc1.balance"
   ]
  },
  {
   "cell_type": "code",
   "execution_count": 96,
   "id": "a27d353e",
   "metadata": {},
   "outputs": [
    {
     "name": "stdout",
     "output_type": "stream",
     "text": [
      "Deposite Accepted\n"
     ]
    }
   ],
   "source": [
    "acc1.deposit(500)"
   ]
  },
  {
   "cell_type": "code",
   "execution_count": 97,
   "id": "cf0ffbf4",
   "metadata": {},
   "outputs": [
    {
     "data": {
      "text/plain": [
       "20500"
      ]
     },
     "execution_count": 97,
     "metadata": {},
     "output_type": "execute_result"
    }
   ],
   "source": [
    "acc1.balance"
   ]
  },
  {
   "cell_type": "code",
   "execution_count": 98,
   "id": "7e81dfa2",
   "metadata": {},
   "outputs": [
    {
     "name": "stdout",
     "output_type": "stream",
     "text": [
      "Funds unavailable\n"
     ]
    }
   ],
   "source": [
    "acc1.withdraw(30000)"
   ]
  },
  {
   "cell_type": "code",
   "execution_count": 99,
   "id": "8c792935",
   "metadata": {},
   "outputs": [
    {
     "name": "stdout",
     "output_type": "stream",
     "text": [
      "withdraw Accepted\n"
     ]
    }
   ],
   "source": [
    "acc1.withdraw(19000)"
   ]
  },
  {
   "cell_type": "code",
   "execution_count": 31,
   "id": "3fc776bf",
   "metadata": {},
   "outputs": [
    {
     "data": {
      "text/plain": [
       "1500"
      ]
     },
     "execution_count": 31,
     "metadata": {},
     "output_type": "execute_result"
    }
   ],
   "source": [
    "acc1.balance"
   ]
  },
  {
   "cell_type": "code",
   "execution_count": null,
   "id": "99c2f3be",
   "metadata": {},
   "outputs": [],
   "source": []
  }
 ],
 "metadata": {
  "kernelspec": {
   "display_name": "Python 3 (ipykernel)",
   "language": "python",
   "name": "python3"
  },
  "language_info": {
   "codemirror_mode": {
    "name": "ipython",
    "version": 3
   },
   "file_extension": ".py",
   "mimetype": "text/x-python",
   "name": "python",
   "nbconvert_exporter": "python",
   "pygments_lexer": "ipython3",
   "version": "3.9.7"
  }
 },
 "nbformat": 4,
 "nbformat_minor": 5
}
